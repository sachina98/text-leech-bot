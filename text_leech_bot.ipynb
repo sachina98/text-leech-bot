{
  "nbformat": 4,
  "nbformat_minor": 0,
  "metadata": {
    "colab": {
      "provenance": [],
      "gpuType": "T4",
      "include_colab_link": true
    },
    "kernelspec": {
      "name": "python3",
      "display_name": "Python 3"
    },
    "language_info": {
      "name": "python"
    },
    "accelerator": "GPU"
  },
  "cells": [
    {
      "cell_type": "markdown",
      "metadata": {
        "id": "view-in-github",
        "colab_type": "text"
      },
      "source": [
        "<a href=\"https://colab.research.google.com/github/sachina98/text-leech-bot/blob/main/text_leech_bot.ipynb\" target=\"_parent\"><img src=\"https://colab.research.google.com/assets/colab-badge.svg\" alt=\"Open In Colab\"/></a>"
      ]
    },
    {
      "cell_type": "code",
      "source": [
        "import os\n",
        "import shutil\n",
        "from IPython.display import clear_output\n",
        "\n",
        "#@title <h1><B><font color=red>𝗧𝗘𝗫𝗧-𝗟𝗘𝗘𝗖𝗛-𝗕𝗢𝗧</B>\n",
        "# @markdown <div><center><a href=\"https://github.com/AshutoshGoswami24/text-leech-bot\"><img height=\"100\"  src=\"https://opengraph.githubassets.com/9s29ytrymhlrsfu1tqt1pzdxyfcsjeea/AshutoshGoswami24/text-leech-bot\"></center></a></div>\n",
        "# @markdown <br><center><h2><strong><font color=red>𝗧𝗘𝗫𝗧-𝗟𝗘𝗘𝗖𝗛-𝗕𝗢𝗧</strong></h2></center>\n",
        "\n",
        "\n",
        "# GitHub repository URL\n",
        "GITHUB_URL = \"https://github.com/AshutoshGoswami24/text-leech-bot.git\"  # Updated URL\n",
        "BRANCH_NAME = \"v1.2-GC\"  # Specify the branch name\n",
        "\n",
        "# Base directory for cloning\n",
        "base_dir = './repo'  # Save repo in ./repo directory relative to current directory\n",
        "\n",
        "# Function to clone or update the repository\n",
        "def clone_or_update_repo(repo_url, base_directory, branch_name):\n",
        "    repo_name = os.path.basename(repo_url).replace('.git', '')\n",
        "    project_dir = os.path.join(base_directory, repo_name)\n",
        "\n",
        "    # Check if the repository directory exists\n",
        "    if os.path.exists(project_dir):\n",
        "        print(f\"Deleting existing repository at: {project_dir} ...\")\n",
        "        shutil.rmtree(project_dir)\n",
        "        print(\"Deleted existing repository successfully!\")\n",
        "\n",
        "    # Clone the repository from a specific branch\n",
        "    print(f\"Cloning repository from {repo_url} (branch: {branch_name})...\")\n",
        "    clone_cmd = f\"git clone -b {branch_name} {repo_url} {project_dir}\"\n",
        "    os.system(clone_cmd)\n",
        "    print(\"Repository cloned successfully!\")\n",
        "\n",
        "    return project_dir\n",
        "\n",
        "# Clone or update the repository\n",
        "project_dir = clone_or_update_repo(GITHUB_URL, base_dir, BRANCH_NAME)\n",
        "\n",
        "# Navigate to the project directory\n",
        "try:\n",
        "    print(f\"Entering project directory: {os.path.basename(project_dir)}...\")\n",
        "    os.chdir(project_dir)\n",
        "    print(\"Entered project directory successfully!\")\n",
        "except FileNotFoundError as e:\n",
        "    print(f\"Error: {e}\")\n",
        "    raise\n",
        "\n",
        "clear_output()\n",
        "\n",
        "# Install required dependencies\n",
        "PIP_INSTALL = \"requirements.txt\"  # Path to requirements file\n",
        "print(\"Installing required dependencies...\")\n",
        "!pip install -r {PIP_INSTALL}\n",
        "print(\"All requirements installed successfully!\")\n",
        "\n",
        "clear_output()\n",
        "\n",
        "# Install FFMPEG\n",
        "install_ffmpeg = \"Yes\"  # Prompt for FFMPEG installation\n",
        "if install_ffmpeg == \"Yes\":\n",
        "    print(\"Installing FFMPEG...\")\n",
        "    os.system(\"apt-get install ffmpeg -qq\")  # Install ffmpeg quietly\n",
        "    print(\"FFMPEG installed successfully!\")\n",
        "else:\n",
        "    print(\"Skipping FFMPEG installation.\")\n",
        "\n",
        "#@markdown ### <font color=ORANGE>Environment Variables\n",
        "\n",
        "API_ID = \"28174664\"  #@param {type:\"string\"}\n",
        "os.environ['API_ID'] = API_ID\n",
        "\n",
        "API_HASH = \"f504bf34ad7dbc597c8802db2f46453c\"  #@param {type:\"string\"}\n",
        "os.environ['API_HASH'] = API_HASH\n",
        "\n",
        "BOT_TOKEN = \"7619482400:AAFGp5-uBHKUAi8Q3XE6JDl40w9HtLdAKL4\"  #@param {type:\"string\"}\n",
        "os.environ['BOT_TOKEN'] = BOT_TOKEN\n",
        "\n",
        "#@markdown\n",
        "PORT = \"8800\"  #@param {type:\"string\"}\n",
        "os.environ['PORT'] = PORT\n",
        "\n",
        "clear_output()\n",
        "\n",
        "\n",
        "# Command to run the bot\n",
        "RUN_COMMAND = \"python3 modules/main.py\"  # Path to your main script\n",
        "print(f\"Running command: {RUN_COMMAND} ...\")\n",
        "!{RUN_COMMAND}\n",
        "print(\"Execution completed!\")\n"
      ],
      "metadata": {
        "id": "DWy3KUYwpdcx",
        "outputId": "139755bc-1cd4-4904-c9fc-3949d5ff2be1",
        "colab": {
          "base_uri": "https://localhost:8080/"
        }
      },
      "execution_count": 1,
      "outputs": [
        {
          "output_type": "stream",
          "name": "stdout",
          "text": [
            "Running command: python3 modules/main.py ...\n",
            "Pyromod is working! If you like pyromod, please star it at https://github.com/usernein/pyromod\n",
            "\n",
            "    █░█░█ █▀█ █▀█ █▀▄ █▀▀ █▀█ ▄▀█ █▀▀ ▀█▀     ▄▀█ █▀ █░█ █░█ ▀█▀ █▀█ █▀ █░█   \n",
            "    ▀▄▀▄▀ █▄█ █▄█ █▄▀ █▄▄ █▀▄ █▀█ █▀░ ░█░     █▀█ ▄█ █▀█ █▄█ ░█░ █▄█ ▄█ █▀█ \n",
            "Task exception was never retrieved\n",
            "future: <Task finished name='Task-4' coro=<start_bot() done, defined at m2.py:339> exception=AttributeError('The API key is required for new authorizations. More info: https://docs.pyrogram.org/start/auth')>\n",
            "Traceback (most recent call last):\n",
            "  File \"m2.py\", line 340, in start_bot\n",
            "  File \"/usr/local/lib/python3.10/dist-packages/pyrogram/methods/utilities/start.py\", line 58, in start\n",
            "    is_authorized = await self.connect()\n",
            "  File \"/usr/local/lib/python3.10/dist-packages/pyrogram/methods/auth/connect.py\", line 40, in connect\n",
            "    await self.load_session()\n",
            "  File \"/usr/local/lib/python3.10/dist-packages/pyrogram/client.py\", line 627, in load_session\n",
            "    raise AttributeError(\"The API key is required for new authorizations. \"\n",
            "AttributeError: The API key is required for new authorizations. More info: https://docs.pyrogram.org/start/auth\n",
            "Web server started on port 8800\n",
            "^C\n",
            "Execution completed!\n"
          ]
        }
      ]
    }
  ]
}